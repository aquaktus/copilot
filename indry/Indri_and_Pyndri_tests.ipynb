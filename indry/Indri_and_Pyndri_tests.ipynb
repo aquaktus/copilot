{
 "cells": [
  {
   "cell_type": "markdown",
   "metadata": {},
   "source": [
    "# Lemur project Indri and Pyndri tests\n",
    "\n",
    "This notebook is to provide a set of examples for how to setup and run some basic queries using the indri engine and pyndri as an interface. "
   ]
  },
  {
   "cell_type": "code",
   "execution_count": 3,
   "metadata": {},
   "outputs": [],
   "source": [
    "# A few imports\n",
    "import pyndri"
   ]
  },
  {
   "cell_type": "markdown",
   "metadata": {},
   "source": [
    "These are some files that we have in our current directory"
   ]
  },
  {
   "cell_type": "code",
   "execution_count": 11,
   "metadata": {},
   "outputs": [
    {
     "name": "stdout",
     "output_type": "stream",
     "text": [
      "IndriBuildIndex.conf  Indri_and_Pyndri_tests.ipynb  corpus.trectext\r\n"
     ]
    }
   ],
   "source": [
    "ls"
   ]
  },
  {
   "cell_type": "code",
   "execution_count": 9,
   "metadata": {},
   "outputs": [
    {
     "name": "stdout",
     "output_type": "stream",
     "text": [
      "<DOC>\r\n",
      "<DOCNO>recipe</DOCNO>\r\n",
      "<TEXT>\r\n",
      "First put the potatoes in the pan. Then fill with water and boil till soft.\r\n",
      "</TEXT>\r\n",
      "</DOC>\r\n",
      "<DOC>\r\n",
      "<DOCNO>history</DOCNO>\r\n",
      "<TEXT>\r\n",
      "Eventually, agriculturalists in Europe found potatoes easier to grow and cultivate than other staple crops, such as wheat and oats.\r\n",
      "</TEXT>\r\n",
      "</DOC>\r\n",
      "<DOC>\r\n",
      "<DOCNO>news</DOCNO>\r\n",
      "<TEXT>\r\n",
      "It has been found that Jaimie Oliver was smuggling potatoes accross the Mexican border. No one knows yet what the meaning of this potato fiasco is.\r\n",
      "</TEXT>\r\n",
      "</DOC>\r\n"
     ]
    }
   ],
   "source": [
    "!cat ./corpus.trectext"
   ]
  },
  {
   "cell_type": "markdown",
   "metadata": {},
   "source": [
    "Indri is a set of tools for indexing and querying documents. <br>\n",
    "Building an index involves creating a config file specifying the corpus to use, the stemmer and stop words. Here is an example:\n",
    "\n",
    "```\n",
    "<parameters>\n",
    "    <index>index/</index>\n",
    "    <memory>1024M</memory>\n",
    "    <storeDocs>true</storeDocs>\n",
    "    <corpus><path>corpus.trectext</path><class>trectext</class></corpus>\n",
    "    <stemmer><name>krovetz</name></stemmer>\n",
    "    <stopper>  \n",
    "      <word>a</word>\n",
    "      <word>about</word>\n",
    "      <word>above</word>\n",
    "      <word>according</word>\n",
    "      <word>across</word>\n",
    "      <word>after</word>\n",
    "    </stopper>\n",
    "</parameters>\n",
    "```"
   ]
  },
  {
   "cell_type": "code",
   "execution_count": 10,
   "metadata": {},
   "outputs": [
    {
     "name": "stdout",
     "output_type": "stream",
     "text": [
      "<parameters>\r\n",
      "<index>index/</index>\r\n",
      "<memory>1024M</memory>\r\n",
      "<storeDocs>true</storeDocs>\r\n",
      "<corpus><path>corpus.trectext</path><class>trectext</class></corpus>\r\n",
      "<stemmer><name>krovetz</name></stemmer>\r\n",
      "</parameters>\r\n"
     ]
    }
   ],
   "source": [
    "!cat ./IndriBuildIndex.conf"
   ]
  },
  {
   "cell_type": "code",
   "execution_count": 3,
   "metadata": {},
   "outputs": [
    {
     "name": "stdout",
     "output_type": "stream",
     "text": [
      "kstem_add_table_entry: Duplicate word emeritus will be ignored.\n",
      "kstem_add_table_entry: Duplicate word emeritus will be ignored.\n",
      "0:00: Opened repository index/\n",
      "0:00: Opened corpus.trectext\n",
      "0:00: Documents parsed: 3 Documents indexed: 0\n",
      "0:00: Closed corpus.trectext\n",
      "0:00: Closing index\n",
      "0:00: Finished\n"
     ]
    }
   ],
   "source": [
    "!IndriBuildIndex IndriBuildIndex.conf"
   ]
  },
  {
   "cell_type": "code",
   "execution_count": 4,
   "metadata": {},
   "outputs": [
    {
     "name": "stdout",
     "output_type": "stream",
     "text": [
      "IndriBuildIndex.conf          corpus.trectext  run.params\r\n",
      "Indri_and_Pyndri_tests.ipynb  \u001b[0m\u001b[01;34mindex\u001b[0m/\r\n"
     ]
    }
   ],
   "source": [
    "ls"
   ]
  },
  {
   "cell_type": "code",
   "execution_count": 17,
   "metadata": {},
   "outputs": [
    {
     "name": "stdout",
     "output_type": "stream",
     "text": [
      "<parameters>\r\n",
      "  <index>index</index>\r\n",
      "  <trecFormat>true</trecFormat>\r\n",
      "  <count>1000</count>\r\n",
      "  <query>\r\n",
      "    <number>115</number>\r\n",
      "    <text>\r\n",
      "      #weight( 1.0 Jaimie 1.0 potatoes  1.0 the  )\r\n",
      "    </text>\r\n",
      "  </query>\r\n",
      "  <query>\r\n",
      "    <number>116</number>\r\n",
      "    <text>\r\n",
      "      #weight( 1.0 water 1.0 potatoes  1.0 the  )\r\n",
      "    </text>\r\n",
      "  </query>\r\n",
      "  <stopper>\r\n",
      "    <word>small</word>\r\n",
      "    <word>the</word>\r\n",
      "  </stopper>\r\n",
      "</parameters>"
     ]
    }
   ],
   "source": [
    "!cat run.params"
   ]
  },
  {
   "cell_type": "code",
   "execution_count": 18,
   "metadata": {},
   "outputs": [
    {
     "name": "stdout",
     "output_type": "stream",
     "text": [
      "kstem_add_table_entry: Duplicate word emeritus will be ignored.\n",
      "115 Q0 news 1 -3.87809 indri\n",
      "115 Q0 recipe 2 -3.88378 indri\n",
      "115 Q0 history 3 -3.88577 indri\n",
      "116 Q0 recipe 1 -3.87574 indri\n",
      "116 Q0 history 2 -3.88577 indri\n",
      "116 Q0 news 3 -3.88613 indri\n"
     ]
    }
   ],
   "source": [
    "!IndriRunQuery run.params"
   ]
  },
  {
   "cell_type": "code",
   "execution_count": null,
   "metadata": {},
   "outputs": [],
   "source": []
  }
 ],
 "metadata": {
  "kernelspec": {
   "display_name": "Python 3",
   "language": "python",
   "name": "python3"
  },
  "language_info": {
   "codemirror_mode": {
    "name": "ipython",
    "version": 3
   },
   "file_extension": ".py",
   "mimetype": "text/x-python",
   "name": "python",
   "nbconvert_exporter": "python",
   "pygments_lexer": "ipython3",
   "version": "3.5.2"
  }
 },
 "nbformat": 4,
 "nbformat_minor": 2
}
