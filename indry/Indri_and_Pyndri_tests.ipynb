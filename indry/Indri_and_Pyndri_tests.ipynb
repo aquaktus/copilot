{
 "cells": [
  {
   "cell_type": "markdown",
   "metadata": {},
   "source": [
    "# Lemur project Indri and Pyndri tests\n",
    "\n",
    "This notebook is to provide a set of examples for how to setup and run some basic queries using the indri engine and pyndri as an interface. "
   ]
  },
  {
   "cell_type": "code",
   "execution_count": 98,
   "metadata": {},
   "outputs": [],
   "source": [
    "# A few imports\n",
    "import pyndri\n",
    "import os"
   ]
  },
  {
   "cell_type": "markdown",
   "metadata": {},
   "source": [
    "These are some files that we have in our current directory"
   ]
  },
  {
   "cell_type": "code",
   "execution_count": 99,
   "metadata": {},
   "outputs": [
    {
     "name": "stdout",
     "output_type": "stream",
     "text": [
      "IndriBuildIndex.conf          corpus.trectext  run.params\r\n",
      "Indri_and_Pyndri_tests.ipynb  \u001b[0m\u001b[01;34mindex\u001b[0m/\r\n"
     ]
    }
   ],
   "source": [
    "ls"
   ]
  },
  {
   "cell_type": "code",
   "execution_count": 100,
   "metadata": {},
   "outputs": [
    {
     "name": "stdout",
     "output_type": "stream",
     "text": [
      "<DOC>\r\n",
      "<DOCNO>recipe</DOCNO>\r\n",
      "<TEXT>\r\n",
      "First put the potatoes in the pan. Then fill with water and boil till soft.\r\n",
      "</TEXT>\r\n",
      "<TEXT>\r\n",
      "more text\r\n",
      "</TEXT>\r\n",
      "</DOC>\r\n",
      "<DOC>\r\n",
      "<DOCNO>history</DOCNO>\r\n",
      "<TEXT>\r\n",
      "Eventually, agriculturalists in Europe found potatoes easier to grow and cultivate than other staple crops, such as wheat and oats.\r\n",
      "</TEXT>\r\n",
      "</DOC>\r\n",
      "<DOC>\r\n",
      "<DOCNO>news</DOCNO>\r\n",
      "<TEXT>\r\n",
      "It has been found that Jaimie Oliver was smuggling potatoes accross the Mexican border. No one knows yet what the meaning of this potato fiasco is.\r\n",
      "</TEXT>\r\n",
      "</DOC>\r\n"
     ]
    }
   ],
   "source": [
    "!cat ./corpus.trectext"
   ]
  },
  {
   "cell_type": "markdown",
   "metadata": {},
   "source": [
    "Indri is a set of tools for indexing and querying documents. <br>\n",
    "Building an index involves creating a config file specifying the corpus to use, the stemmer and stop words. Here is an example:\n",
    "\n",
    "```\n",
    "<parameters>\n",
    "    <index>index/</index>\n",
    "    <memory>1024M</memory>\n",
    "    <storeDocs>true</storeDocs>\n",
    "    <corpus><path>corpus.trectext</path><class>trectext</class></corpus>\n",
    "    <stemmer><name>krovetz</name></stemmer>\n",
    "    <stopper>  \n",
    "      <word>a</word>\n",
    "      <word>about</word>\n",
    "      <word>above</word>\n",
    "      <word>according</word>\n",
    "      <word>across</word>\n",
    "      <word>after</word>\n",
    "    </stopper>\n",
    "</parameters>\n",
    "```"
   ]
  },
  {
   "cell_type": "code",
   "execution_count": 101,
   "metadata": {},
   "outputs": [
    {
     "name": "stdout",
     "output_type": "stream",
     "text": [
      "<parameters>\r\n",
      "<index>index/</index>\r\n",
      "<memory>1024M</memory>\r\n",
      "<storeDocs>true</storeDocs>\r\n",
      "<corpus><path>corpus.trectext</path><class>trectext</class></corpus>\r\n",
      "<stemmer><name>krovetz</name></stemmer>\r\n",
      "</parameters>\r\n"
     ]
    }
   ],
   "source": [
    "!cat ./IndriBuildIndex.conf"
   ]
  },
  {
   "cell_type": "code",
   "execution_count": 102,
   "metadata": {},
   "outputs": [
    {
     "name": "stdout",
     "output_type": "stream",
     "text": [
      "kstem_add_table_entry: Duplicate word emeritus will be ignored.\n",
      "kstem_add_table_entry: Duplicate word emeritus will be ignored.\n",
      "0:00: Opened repository index/\n",
      "0:00: Opened corpus.trectext\n",
      "0:00: Documents parsed: 3 Documents indexed: 0\n",
      "0:00: Closed corpus.trectext\n",
      "0:00: Closing index\n",
      "0:00: Finished\n"
     ]
    }
   ],
   "source": [
    "!IndriBuildIndex IndriBuildIndex.conf"
   ]
  },
  {
   "cell_type": "code",
   "execution_count": 103,
   "metadata": {},
   "outputs": [
    {
     "name": "stdout",
     "output_type": "stream",
     "text": [
      "IndriBuildIndex.conf          corpus.trectext  run.params\r\n",
      "Indri_and_Pyndri_tests.ipynb  \u001b[0m\u001b[01;34mindex\u001b[0m/\r\n"
     ]
    }
   ],
   "source": [
    "ls"
   ]
  },
  {
   "cell_type": "code",
   "execution_count": 104,
   "metadata": {},
   "outputs": [
    {
     "name": "stdout",
     "output_type": "stream",
     "text": [
      "<parameters>\r\n",
      "  <index>index</index>\r\n",
      "  <trecFormat>true</trecFormat>\r\n",
      "  <count>10</count>\r\n",
      "  <query>\r\n",
      "    <number>115</number>\r\n",
      "    <text>\r\n",
      "      #weight( 1.0 Jaimie 1.0 potatoes  1.0 the  )\r\n",
      "    </text>\r\n",
      "  </query>\r\n",
      "  <query>\r\n",
      "    <number>116</number>\r\n",
      "    <text>\r\n",
      "      #weight( 1.0 water 1.0 potatoes  1.0 the  )\r\n",
      "    </text>\r\n",
      "  </query>\r\n",
      "  <stopper>\r\n",
      "    <word>small</word>\r\n",
      "    <word>the</word>\r\n",
      "  </stopper>\r\n",
      "</parameters>"
     ]
    }
   ],
   "source": [
    "!cat run.params"
   ]
  },
  {
   "cell_type": "code",
   "execution_count": 105,
   "metadata": {},
   "outputs": [
    {
     "name": "stdout",
     "output_type": "stream",
     "text": [
      "kstem_add_table_entry: Duplicate word emeritus will be ignored.\n",
      "115 Q0 news 1 -3.90996 indri\n",
      "115 Q0 recipe 2 -3.91677 indri\n",
      "115 Q0 history 3 -3.91796 indri\n",
      "116 Q0 recipe 1 -3.90847 indri\n",
      "116 Q0 history 2 -3.91796 indri\n",
      "116 Q0 news 3 -3.91826 indri\n"
     ]
    }
   ],
   "source": [
    "!IndriRunQuery run.params"
   ]
  },
  {
   "cell_type": "code",
   "execution_count": 106,
   "metadata": {},
   "outputs": [
    {
     "name": "stdout",
     "output_type": "stream",
     "text": [
      "Index Exists\n"
     ]
    }
   ],
   "source": [
    "index_path = os.path.join(\"\", 'index')\n",
    "print(\"Index Exists\" if os.path.exists(index_path) else \"Index not found\")\n",
    "\n",
    "index = pyndri.Index(index_path)"
   ]
  },
  {
   "cell_type": "code",
   "execution_count": 107,
   "metadata": {},
   "outputs": [
    {
     "data": {
      "text/plain": [
       "((3, -3.212641352160709), (1, -3.219448297087022), (2, -3.2248132426417326))"
      ]
     },
     "execution_count": 107,
     "metadata": {},
     "output_type": "execute_result"
    }
   ],
   "source": [
    "index.query('Jaimie potatoes the')"
   ]
  },
  {
   "cell_type": "code",
   "execution_count": 108,
   "metadata": {},
   "outputs": [],
   "source": [
    "env = pyndri.TFIDFQueryEnvironment(index)\n",
    "for i in range(1000):\n",
    "    env.query('Jaimie potatoes the')"
   ]
  },
  {
   "cell_type": "code",
   "execution_count": 109,
   "metadata": {},
   "outputs": [
    {
     "data": {
      "text/plain": [
       "['news', 'recipe', 'history']"
      ]
     },
     "execution_count": 109,
     "metadata": {},
     "output_type": "execute_result"
    }
   ],
   "source": [
    "[index.document(int_doc_id[0])[0] for int_doc_id in env.query('Jaimie potatoes the')]"
   ]
  },
  {
   "cell_type": "markdown",
   "metadata": {},
   "source": [
    "## Experiments\n",
    "- you cannot duplicate the document id's in the corpus. Indri will simply ignore the duplicates and it will look as if there was only one document. The solution to getting the right code given a description is to have a parallel file and use the index given to find the document.\n",
    "- it seems that indri doesnt do Language Models in the query files. So for BM25 pyndri seems like the best option.\n",
    "- running 100k queries in a for loop for pyndri using a TFIDF-BM25 model takes around 12s"
   ]
  },
  {
   "cell_type": "code",
   "execution_count": null,
   "metadata": {},
   "outputs": [],
   "source": []
  }
 ],
 "metadata": {
  "kernelspec": {
   "display_name": "Python 3",
   "language": "python",
   "name": "python3"
  },
  "language_info": {
   "codemirror_mode": {
    "name": "ipython",
    "version": 3
   },
   "file_extension": ".py",
   "mimetype": "text/x-python",
   "name": "python",
   "nbconvert_exporter": "python",
   "pygments_lexer": "ipython3",
   "version": "3.5.2"
  }
 },
 "nbformat": 4,
 "nbformat_minor": 2
}
