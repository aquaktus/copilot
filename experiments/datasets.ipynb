{
 "cells": [
  {
   "cell_type": "markdown",
   "metadata": {},
   "source": [
    "                           ______          __        ______            _ __      __ \n",
    "                          / ____/___  ____/ /__     / ____/___  ____  (_) /___  / /_\n",
    "                         / /   / __ \\/ __  / _ \\   / /   / __ \\/ __ \\/ / / __ \\/ __/\n",
    "                        / /___/ /_/ / /_/ /  __/  / /___/ /_/ / /_/ / / / /_/ / /_  \n",
    "                        \\____/\\____/\\__,_/\\___/   \\____/\\____/ .___/_/_/\\____/\\__/  \n",
    "                                                            /_/                     \n",
    "                               ____        __                  __          __       \n",
    "                              / __ \\____ _/ /_____ _________  / /______   / /       \n",
    "                             / / / / __ `/ __/ __ `/ ___/ _ \\/ __/ ___/  / /        \n",
    "                            / /_/ / /_/ / /_/ /_/ (__  )  __/ /_(__  )  /_/         \n",
    "                           /_____/\\__,_/\\__/\\__,_/____/\\___/\\__/____/  (_)          \n",
    "                                                                            \n",
    "                                  (Everybody jump up and down very fast)"
   ]
  },
  {
   "cell_type": "code",
   "execution_count": 13,
   "metadata": {},
   "outputs": [],
   "source": [
    "import os\n",
    "import sys\n",
    "import linecache"
   ]
  },
  {
   "cell_type": "code",
   "execution_count": 2,
   "metadata": {},
   "outputs": [],
   "source": [
    "os.mkdir(\"../datasets\")"
   ]
  },
  {
   "cell_type": "code",
   "execution_count": 26,
   "metadata": {},
   "outputs": [],
   "source": [
    "def show_sample(fp, src_ext=\".src\", tgt_ext=\".tgt\", lines=[3,21,80,99]):\n",
    "    for l in lines:\n",
    "        print(\"LINE: {} \\nSOURCE:    {} \\nTARGET:     {}\\n\".format(l, \n",
    "                                                                   linecache.getline(fp+src_ext, l), \n",
    "                                                                   linecache.getline(fp+tgt_ext, l)))"
   ]
  },
  {
   "cell_type": "markdown",
   "metadata": {},
   "source": [
    "Here we explore the datasets we use for training and comparison. How to get them, store them, and some analysis. <br>\n",
    "\n",
    "#### Django \n",
    "\n",
    "<img style=\"width: 200px;\" src=\"https://miro.medium.com/max/3000/1*25Le7KoMK_z6BIaM8x74RA.png\" />\n",
    "\n",
    "The django dataset is obtained through a Git repo at: https://github.com/odashi/ase15-django-dataset <br>\n",
    "Each line description is essentially a line by line comment for the code on the line. It does not take much of a larger scope than the code it is describing.\n",
    "\n",
    "The descriptions are also not fully parsed using spaces with things like `django.conf` in english and `django . conf` in code."
   ]
  },
  {
   "cell_type": "code",
   "execution_count": 25,
   "metadata": {},
   "outputs": [
    {
     "name": "stdout",
     "output_type": "stream",
     "text": [
      "Directory  ../datasets/django  already exists\n"
     ]
    }
   ],
   "source": [
    "dirName = \"../datasets/django\"\n",
    " \n",
    "try:\n",
    "    # Create target Directory\n",
    "    os.mkdir(dirName)\n",
    "    print(\"Directory \" , dirName ,  \" Created \") \n",
    "except FileExistsError:\n",
    "    print(\"Directory \" , dirName ,  \" already exists\")"
   ]
  },
  {
   "cell_type": "code",
   "execution_count": null,
   "metadata": {
    "scrolled": false
   },
   "outputs": [],
   "source": [
    "# getting descriptions\n",
    "!wget https://raw.githubusercontent.com/odashi/ase15-django-dataset/master/django/all.anno -O ../datasets/django/all.desc\n",
    "\n",
    "# getting code\n",
    "!wget https://raw.githubusercontent.com/odashi/ase15-django-dataset/master/django/all.code -O ../datasets/django/all.code"
   ]
  },
  {
   "cell_type": "code",
   "execution_count": 27,
   "metadata": {},
   "outputs": [
    {
     "name": "stdout",
     "output_type": "stream",
     "text": [
      "LINE: 3 \n",
      "SOURCE:      from django.conf import settings into default name space.\n",
      " \n",
      "TARGET:       from django . conf import settings\n",
      "\n",
      "\n",
      "LINE: 21 \n",
      "SOURCE:      substitute value under the backend key of settings.CACHES dictionary for conf.\n",
      " \n",
      "TARGET:                   conf = settings . CACHES [ backend ]\n",
      "\n",
      "\n",
      "LINE: 80 \n",
      "SOURCE:      do nothing.\n",
      " \n",
      "TARGET:           pass\n",
      "\n",
      "\n",
      "LINE: 99 \n",
      "SOURCE:      convert timeout into an integer.\n",
      " \n",
      "TARGET:                       timeout = int ( timeout )\n",
      "\n",
      "\n"
     ]
    }
   ],
   "source": [
    "show_sample(\"../datasets/django/all\", src_ext=\".desc\", tgt_ext=\".code\")"
   ]
  },
  {
   "cell_type": "code",
   "execution_count": null,
   "metadata": {},
   "outputs": [],
   "source": []
  }
 ],
 "metadata": {
  "kernelspec": {
   "display_name": "Python 3",
   "language": "python",
   "name": "python3"
  },
  "language_info": {
   "codemirror_mode": {
    "name": "ipython",
    "version": 3
   },
   "file_extension": ".py",
   "mimetype": "text/x-python",
   "name": "python",
   "nbconvert_exporter": "python",
   "pygments_lexer": "ipython3",
   "version": "3.5.2"
  }
 },
 "nbformat": 4,
 "nbformat_minor": 2
}
